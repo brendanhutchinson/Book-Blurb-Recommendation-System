{
 "cells": [
  {
   "cell_type": "code",
   "execution_count": 102,
   "metadata": {},
   "outputs": [
    {
     "name": "stderr",
     "output_type": "stream",
     "text": [
      "[nltk_data] Downloading package punkt to\n",
      "[nltk_data]     /Users/brendanhutchinson/nltk_data...\n",
      "[nltk_data]   Package punkt is already up-to-date!\n",
      "[nltk_data] Downloading package wordnet to\n",
      "[nltk_data]     /Users/brendanhutchinson/nltk_data...\n",
      "[nltk_data]   Package wordnet is already up-to-date!\n",
      "[nltk_data] Downloading package omw-1.4 to\n",
      "[nltk_data]     /Users/brendanhutchinson/nltk_data...\n",
      "[nltk_data]   Package omw-1.4 is already up-to-date!\n"
     ]
    }
   ],
   "source": [
    "import numpy as np \n",
    "import pandas as pd\n",
    "import nltk\n",
    "from sklearn.pipeline import Pipeline\n",
    "from nltk.corpus import stopwords\n",
    "import re\n",
    "import string\n",
    "from nltk.stem import WordNetLemmatizer\n",
    "from nltk import word_tokenize\n",
    "from nltk.corpus import stopwords\n",
    "stop = stopwords.words('english')\n",
    "stop_words_ = set(stopwords.words('english'))\n",
    "nltk.download('punkt')\n",
    "nltk.download('wordnet')\n",
    "nltk.download('omw-1.4')\n",
    "wn = WordNetLemmatizer()\n",
    "\n",
    "from sklearn.impute import SimpleImputer\n",
    "from sklearn.preprocessing import OneHotEncoder, MinMaxScaler\n",
    "from sklearn.compose import ColumnTransformer\n",
    "\n",
    "from sklearn.feature_extraction.text import TfidfVectorizer\n",
    "from sklearn.feature_extraction.text import CountVectorizer\n",
    "\n",
    "\n",
    "from sklearn.metrics.pairwise import cosine_similarity"
   ]
  },
  {
   "cell_type": "code",
   "execution_count": 125,
   "metadata": {},
   "outputs": [],
   "source": [
    "df = pd.read_csv('books_with_blurbs.csv')"
   ]
  },
  {
   "cell_type": "code",
   "execution_count": 126,
   "metadata": {},
   "outputs": [],
   "source": [
    "df['text'] = df['Author'] + \" \" + df['Publisher'] + \" \" + df['Title'] + \" \" + df['Blurb']"
   ]
  },
  {
   "cell_type": "code",
   "execution_count": 127,
   "metadata": {},
   "outputs": [],
   "source": [
    "def black_txt(token):\n",
    "    return token not in stop_words_ and token not in list(string.punctuation) and len(token)>2 \n",
    "\n",
    "def clean_text(corpus):\n",
    "    cleaned_text = []\n",
    "    cleaned_text2 = []\n",
    "    corpus = re.sub(\"'\", \"\", corpus)\n",
    "    corpus = re.sub(\"(\\\\d|\\\\W)+\",\" \",corpus)\n",
    "    corpus = re.sub(\"/[^A-Z0-9]+/ig\", \"\",corpus)\n",
    "    corpus = corpus.replace('_','')\n",
    "    cleaned_text = [wn.lemmatize(word, pos = 'v') for word in word_tokenize(corpus.lower()) if black_txt(word)]\n",
    "    cleaned_text2 = [word for word in cleaned_text if black_txt(word)]\n",
    "    return \" \".join(cleaned_text2)\n"
   ]
  },
  {
   "cell_type": "code",
   "execution_count": 128,
   "metadata": {},
   "outputs": [],
   "source": [
    "train_data = df.drop(columns = ['ISBN'])\n",
    "word_features = ['text']\n",
    "train_data['text'] = train_data['text'].map(str).apply(clean_text)"
   ]
  },
  {
   "cell_type": "code",
   "execution_count": 129,
   "metadata": {},
   "outputs": [],
   "source": [
    "cvec = CountVectorizer()\n",
    "text = train_data['text']\n",
    "cvec.fit(text)\n",
    "vec_mat = cvec.transform(text)\n",
    "vec_df = pd.DataFrame(cvec.transform(text).toarray(),\n",
    "                     columns=[k for k, v in sorted(cvec.vocabulary_.items(), \n",
    "                     key=lambda item: item[1])])"
   ]
  },
  {
   "cell_type": "code",
   "execution_count": 142,
   "metadata": {},
   "outputs": [
    {
     "name": "stdout",
     "output_type": "stream",
     "text": [
      "what book do you want to find?dragons\n"
     ]
    }
   ],
   "source": [
    "book_search = input('what book do you want to find?')\n"
   ]
  },
  {
   "cell_type": "code",
   "execution_count": 143,
   "metadata": {},
   "outputs": [],
   "source": [
    "# ibook_search = 'books about pigs and cheese'\n",
    "\n",
    "search = clean_text(book_search)\n",
    "search_vec = cvec.transform([search])"
   ]
  },
  {
   "cell_type": "code",
   "execution_count": 144,
   "metadata": {},
   "outputs": [],
   "source": [
    "from sklearn.metrics.pairwise import cosine_similarity\n",
    "\n",
    "test = cosine_similarity(search_vec, vec_mat)\n",
    "#vec_df.apply(lambda x: cosine_similarity(x,search_vec))"
   ]
  },
  {
   "cell_type": "code",
   "execution_count": 145,
   "metadata": {},
   "outputs": [
    {
     "name": "stdout",
     "output_type": "stream",
     "text": [
      "Title : Dragons: A Natural History\n",
      "Author : Karl Shuker\n",
      "Publisher : Simon &amp; Schuster\n",
      "Blurb : For millennia, few animals have fascinated mankind more than dragons. But until now, no rigorous survey has captured them in all their glorious variety. \"Dragons: A Natural History\" is that survey...a one-of-a-kind book, bringing these captivating creatures to life with lavish illustrations and vivid commentary. This marvelous compendium will take you on a journey that begins with the earliest serpent dragons and continues to the present day. Along the way, Dr. Karl Shuker, one of the world's leading experts on dracontology, shares his wealth of knowledge on: ,Dragon dwellings: These magnificent beasts have been found in an astounding number of places. Dragons and their near relatives have found niches in every ecosystem on the planet -- from the mountains of Greece to the forests of northern Europe to the volcanic plain of Mesoamerica to the river valleys of China -- and have, as a consequence, become deeply embedded in human culture. ,Dragon variety: Here are five main types of dragons, emerging from the floods or flames of history -- the frightening Serpents, Wyverns, and Classical Dragons of the West; the Sky Dragons, including beneficent Chinese Dragons, Amphipteres, and winged New World species; the Neo-Dragons such as the Basilisk, Salamander, and the like; as well as dozens of varieties and subspecies, including orms, guivres, lindorms, and more. ,Dragon traditions: From St. George's batwinged, scaly-legged adversary to Wagner's Fafnir to Quetzalcoatl, mythic dragons have been a powerful presence in the legends of humanity. Each of them is described and illustrated in \"Dragons: A Natural History.\"\n"
     ]
    }
   ],
   "source": [
    "best_book = np.argmax(test[0])\n",
    "\n",
    "print('Title : {}'.format(train_data.loc[best_book, 'Title']))\n",
    "print('Author : {}'.format(train_data.loc[best_book, 'Author']))\n",
    "print('Publisher : {}'.format(train_data.loc[best_book, 'Publisher']))\n",
    "print('Blurb : {}'.format(train_data.loc[best_book, 'Blurb']))\n"
   ]
  },
  {
   "cell_type": "code",
   "execution_count": 100,
   "metadata": {},
   "outputs": [],
   "source": []
  },
  {
   "cell_type": "code",
   "execution_count": null,
   "metadata": {},
   "outputs": [],
   "source": []
  }
 ],
 "metadata": {
  "interpreter": {
   "hash": "1d020a417669de9e26ebca1460d6689139388bf5b4c8b8c068885a798f9d4d0b"
  },
  "kernelspec": {
   "display_name": "Python 3 (ipykernel)",
   "language": "python",
   "name": "python3"
  },
  "language_info": {
   "codemirror_mode": {
    "name": "ipython",
    "version": 3
   },
   "file_extension": ".py",
   "mimetype": "text/x-python",
   "name": "python",
   "nbconvert_exporter": "python",
   "pygments_lexer": "ipython3",
   "version": "3.9.13"
  }
 },
 "nbformat": 4,
 "nbformat_minor": 2
}
